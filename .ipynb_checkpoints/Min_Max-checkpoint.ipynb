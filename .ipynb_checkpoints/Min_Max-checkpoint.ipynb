{
 "cells": [
  {
   "cell_type": "markdown",
   "id": "f0f5c1bb-64b4-4e6d-80ce-9caa9e99deff",
   "metadata": {},
   "source": [
    "# Find Trend?\n"
   ]
  },
  {
   "cell_type": "code",
   "execution_count": 14,
   "id": "e80a558c-7353-40c0-887f-9f6ce5a00181",
   "metadata": {},
   "outputs": [],
   "source": [
    "import numpy as np"
   ]
  },
  {
   "cell_type": "code",
   "execution_count": 21,
   "id": "325b0cdc-58c3-4011-be50-4e16dc92648f",
   "metadata": {},
   "outputs": [
    {
     "ename": "NameError",
     "evalue": "name 'data' is not defined",
     "output_type": "error",
     "traceback": [
      "\u001b[1;31m---------------------------------------------------------------------------\u001b[0m",
      "\u001b[1;31mNameError\u001b[0m                                 Traceback (most recent call last)",
      "Cell \u001b[1;32mIn[21], line 1\u001b[0m\n\u001b[1;32m----> 1\u001b[0m prices\u001b[38;5;241m=\u001b[39mdata[\u001b[38;5;124m'\u001b[39m\u001b[38;5;124mAdj Close\u001b[39m\u001b[38;5;124m'\u001b[39m]\u001b[38;5;241m.\u001b[39mto_numpy()\n",
      "\u001b[1;31mNameError\u001b[0m: name 'data' is not defined"
     ]
    }
   ],
   "source": [
    "prices=data['Adj Close'].to_numpy()"
   ]
  },
  {
   "cell_type": "code",
   "execution_count": null,
   "id": "09ccfec3-552c-4713-8b31-9ee38edb8ae9",
   "metadata": {},
   "outputs": [],
   "source": [
    "window_short = 10\n",
    "window_long = 20\n",
    "sma_short = np.convolve(prices, np.ones(window_short), 'valid') / window_short\n",
    "sma_long = np.convolve(prices, np.ones(window_long), 'valid') / window_long"
   ]
  },
  {
   "cell_type": "markdown",
   "id": "bf0c73a7-9800-435b-9e7c-f04f585bf5b3",
   "metadata": {},
   "source": [
    "Try do define"
   ]
  },
  {
   "cell_type": "code",
   "execution_count": null,
   "id": "695282bf-94d7-4b05-803d-9d6322eb0710",
   "metadata": {},
   "outputs": [],
   "source": [
    "if sma_short[-1] > sma_long[-1]:\n",
    "    trend = 'Bull'\n",
    "elif sma_short[-1] < sma_long[-1]:\n",
    "    trend = 'Bear'\n",
    "else:\n",
    "    trend = 'Flat'\n",
    "\n",
    "print(f\"Trend: {trend}\")"
   ]
  },
  {
   "cell_type": "code",
   "execution_count": null,
   "id": "69eb2528-b016-4834-a70a-6673e039099a",
   "metadata": {},
   "outputs": [],
   "source": [
    "min_indices = np.where(prices == np.min(prices))[0]  # Min\n",
    "max_index = np.where(prices == np.max(prices[min_indices[0]:min_indices[-1] + 1]))[0]  # Max"
   ]
  },
  {
   "cell_type": "code",
   "execution_count": null,
   "id": "1c7a9ee8-9e89-4ca6-a831-f48076ac76de",
   "metadata": {},
   "outputs": [],
   "source": [
    "x = np.arange(len(prices))  # Индексы дней\n",
    "A = np.vstack([x[min_indices[0]], np.ones_like(x[min_indices[0]])]).T\n",
    "m, c = np.linalg.lstsq(A, prices[min_indices[0]:min_indices[-1] + 1], rcond=None)[0]"
   ]
  },
  {
   "cell_type": "code",
   "execution_count": null,
   "id": "9a404c57-543c-4849-b041-ba9ec410d973",
   "metadata": {},
   "outputs": [],
   "source": [
    "plt.figure(figsize=(10, 6))\n",
    "plt.plot(x, prices, marker='o', linestyle='-', color='b', label='Цены акций')\n",
    "\n",
    "# Трендовая прямая через минимумы\n",
    "plt.plot(x[min_indices], m * x[min_indices] + c, linestyle='--', color='g', label='Трендовая прямая через минимумы')\n",
    "\n",
    "# Трендовая прямая параллельно через максимум\n",
    "plt.plot(x[min_indices[0]:max_index[0]+1], m * x[min_indices[0]:max_index[0]+1] + c, linestyle='--', color='r', label='Трендовая прямая параллельно через максимум')\n",
    "\n",
    "plt.title('График цен акций и трендовые прямые')\n",
    "plt.xlabel('Дни')\n",
    "plt.ylabel('Цена акций')\n",
    "plt.legend()\n",
    "plt.grid(True)\n",
    "plt.tight_layout()\n",
    "plt.show()"
   ]
  }
 ],
 "metadata": {
  "kernelspec": {
   "display_name": "Python 3 (ipykernel)",
   "language": "python",
   "name": "python3"
  },
  "language_info": {
   "codemirror_mode": {
    "name": "ipython",
    "version": 3
   },
   "file_extension": ".py",
   "mimetype": "text/x-python",
   "name": "python",
   "nbconvert_exporter": "python",
   "pygments_lexer": "ipython3",
   "version": "3.11.5"
  }
 },
 "nbformat": 4,
 "nbformat_minor": 5
}
